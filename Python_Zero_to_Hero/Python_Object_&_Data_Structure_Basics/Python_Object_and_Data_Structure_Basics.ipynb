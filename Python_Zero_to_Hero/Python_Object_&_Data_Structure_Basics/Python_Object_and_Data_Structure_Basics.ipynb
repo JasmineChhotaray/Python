{
 "cells": [
  {
   "cell_type": "code",
   "execution_count": 1,
   "id": "9fbcb359",
   "metadata": {},
   "outputs": [
    {
     "data": {
      "text/plain": [
       "5.551115123125783e-17"
      ]
     },
     "execution_count": 1,
     "metadata": {},
     "output_type": "execute_result"
    }
   ],
   "source": [
    "0.1 + 0.2 - 0.3 "
   ]
  },
  {
   "cell_type": "code",
   "execution_count": 2,
   "id": "d207c21a",
   "metadata": {},
   "outputs": [
    {
     "data": {
      "text/plain": [
       "5.551115123125783e-17"
      ]
     },
     "execution_count": 2,
     "metadata": {},
     "output_type": "execute_result"
    }
   ],
   "source": [
    "(0.1 + 0.2) - 0.3"
   ]
  },
  {
   "cell_type": "code",
   "execution_count": 3,
   "id": "bf7e4626",
   "metadata": {},
   "outputs": [
    {
     "data": {
      "text/plain": [
       "0.5"
      ]
     },
     "execution_count": 3,
     "metadata": {},
     "output_type": "execute_result"
    }
   ],
   "source": [
    "1/2"
   ]
  },
  {
   "cell_type": "code",
   "execution_count": 1,
   "id": "103f531d",
   "metadata": {},
   "outputs": [],
   "source": [
    "name = \"Sam\""
   ]
  },
  {
   "cell_type": "code",
   "execution_count": 3,
   "id": "1d65aa96",
   "metadata": {},
   "outputs": [],
   "source": [
    "# name[0] = 'P'"
   ]
  },
  {
   "cell_type": "code",
   "execution_count": 6,
   "id": "a10e91fa",
   "metadata": {},
   "outputs": [],
   "source": [
    " last_letters = name[1:]"
   ]
  },
  {
   "cell_type": "code",
   "execution_count": 7,
   "id": "729185e7",
   "metadata": {},
   "outputs": [
    {
     "data": {
      "text/plain": [
       "'am'"
      ]
     },
     "execution_count": 7,
     "metadata": {},
     "output_type": "execute_result"
    }
   ],
   "source": [
    "last_letters"
   ]
  },
  {
   "cell_type": "code",
   "execution_count": 9,
   "id": "1617b7d0",
   "metadata": {},
   "outputs": [
    {
     "data": {
      "text/plain": [
       "'Pam'"
      ]
     },
     "execution_count": 9,
     "metadata": {},
     "output_type": "execute_result"
    }
   ],
   "source": [
    "'P' + last_letters"
   ]
  },
  {
   "cell_type": "code",
   "execution_count": 10,
   "id": "00f925f3",
   "metadata": {},
   "outputs": [],
   "source": [
    "x = \"Hello World\""
   ]
  },
  {
   "cell_type": "code",
   "execution_count": 11,
   "id": "3eebe1b5",
   "metadata": {},
   "outputs": [
    {
     "data": {
      "text/plain": [
       "'HELLO WORLD'"
      ]
     },
     "execution_count": 11,
     "metadata": {},
     "output_type": "execute_result"
    }
   ],
   "source": [
    "x.upper()"
   ]
  },
  {
   "cell_type": "code",
   "execution_count": 12,
   "id": "0dc0ed96",
   "metadata": {},
   "outputs": [
    {
     "data": {
      "text/plain": [
       "'hello world'"
      ]
     },
     "execution_count": 12,
     "metadata": {},
     "output_type": "execute_result"
    }
   ],
   "source": [
    "x.lower()"
   ]
  },
  {
   "cell_type": "code",
   "execution_count": 13,
   "id": "695d191a",
   "metadata": {},
   "outputs": [
    {
     "data": {
      "text/plain": [
       "['Hello', 'World']"
      ]
     },
     "execution_count": 13,
     "metadata": {},
     "output_type": "execute_result"
    }
   ],
   "source": [
    "x.split()"
   ]
  },
  {
   "cell_type": "code",
   "execution_count": 14,
   "id": "0bb894e5",
   "metadata": {},
   "outputs": [
    {
     "data": {
      "text/plain": [
       "['Hell', ' W', 'rld']"
      ]
     },
     "execution_count": 14,
     "metadata": {},
     "output_type": "execute_result"
    }
   ],
   "source": [
    "x.split('o')"
   ]
  },
  {
   "cell_type": "markdown",
   "id": "a15a36c0",
   "metadata": {},
   "source": [
    "#### 1. Are strings mutable?\n",
    "\n",
    "Strings are not mutable! (meaning you can't use indexing to change individual elements of a string)"
   ]
  },
  {
   "cell_type": "markdown",
   "id": "e85c572c",
   "metadata": {},
   "source": [
    "### .format"
   ]
  },
  {
   "cell_type": "code",
   "execution_count": 16,
   "id": "ec47adb1",
   "metadata": {},
   "outputs": [
    {
     "name": "stdout",
     "output_type": "stream",
     "text": [
      "This is a string INSERTED\n"
     ]
    }
   ],
   "source": [
    "print('This is a string {}'.format('INSERTED'))"
   ]
  },
  {
   "cell_type": "code",
   "execution_count": 17,
   "id": "c921155a",
   "metadata": {},
   "outputs": [
    {
     "name": "stdout",
     "output_type": "stream",
     "text": [
      "The fox brown quick\n"
     ]
    }
   ],
   "source": [
    "print('The {} {} {}'.format('fox', 'brown', 'quick'))"
   ]
  },
  {
   "cell_type": "code",
   "execution_count": 18,
   "id": "56631ae9",
   "metadata": {},
   "outputs": [
    {
     "name": "stdout",
     "output_type": "stream",
     "text": [
      "The quick brown fox\n"
     ]
    }
   ],
   "source": [
    "print('The {2} {1} {0}'.format('fox', 'brown', 'quick'))"
   ]
  },
  {
   "cell_type": "code",
   "execution_count": 20,
   "id": "343ca4f2",
   "metadata": {},
   "outputs": [
    {
     "name": "stdout",
     "output_type": "stream",
     "text": [
      "The fox fox fox\n"
     ]
    }
   ],
   "source": [
    "print('The {0} {0} {0}'.format('fox', 'brown', 'quick'))"
   ]
  },
  {
   "cell_type": "code",
   "execution_count": 19,
   "id": "1df9fada",
   "metadata": {},
   "outputs": [
    {
     "name": "stdout",
     "output_type": "stream",
     "text": [
      "The quick brown fox\n"
     ]
    }
   ],
   "source": [
    "print('The {q} {b} {f}'.format(f='fox', b='brown', q='quick'))"
   ]
  },
  {
   "cell_type": "markdown",
   "id": "1e39a949",
   "metadata": {},
   "source": [
    "### Float formatting \"{value:width.precision f}\""
   ]
  },
  {
   "cell_type": "code",
   "execution_count": 21,
   "id": "6e19be5d",
   "metadata": {},
   "outputs": [],
   "source": [
    "result = 100 / 777"
   ]
  },
  {
   "cell_type": "code",
   "execution_count": 22,
   "id": "e888f308",
   "metadata": {},
   "outputs": [
    {
     "data": {
      "text/plain": [
       "0.1287001287001287"
      ]
     },
     "execution_count": 22,
     "metadata": {},
     "output_type": "execute_result"
    }
   ],
   "source": [
    "result"
   ]
  },
  {
   "cell_type": "code",
   "execution_count": 23,
   "id": "71971d2d",
   "metadata": {},
   "outputs": [
    {
     "name": "stdout",
     "output_type": "stream",
     "text": [
      "The result was 0.1287001287001287\n"
     ]
    }
   ],
   "source": [
    "print(\"The result was {r}\".format(r=result))"
   ]
  },
  {
   "cell_type": "code",
   "execution_count": 24,
   "id": "2915f66a",
   "metadata": {},
   "outputs": [
    {
     "name": "stdout",
     "output_type": "stream",
     "text": [
      "The result was 0.129\n"
     ]
    }
   ],
   "source": [
    "print(\"The result was {r:1.3f}\".format(r=result))"
   ]
  },
  {
   "cell_type": "code",
   "execution_count": 25,
   "id": "c7a327f6",
   "metadata": {},
   "outputs": [
    {
     "name": "stdout",
     "output_type": "stream",
     "text": [
      "The result was      0.129\n"
     ]
    }
   ],
   "source": [
    "print(\"The result was {r:10.3f}\".format(r=result))"
   ]
  },
  {
   "cell_type": "code",
   "execution_count": 26,
   "id": "a1e16d21",
   "metadata": {},
   "outputs": [],
   "source": [
    "result = 104.12345"
   ]
  },
  {
   "cell_type": "code",
   "execution_count": 27,
   "id": "bfbe608d",
   "metadata": {},
   "outputs": [
    {
     "name": "stdout",
     "output_type": "stream",
     "text": [
      "The result was 104.123\n"
     ]
    }
   ],
   "source": [
    "print(\"The result was {r:1.3f}\".format(r=result))"
   ]
  },
  {
   "cell_type": "markdown",
   "id": "302ed280",
   "metadata": {},
   "source": [
    "### F String or Formatted String literals"
   ]
  },
  {
   "cell_type": "code",
   "execution_count": 28,
   "id": "f0c4bca9",
   "metadata": {},
   "outputs": [],
   "source": [
    "name = \"Jose\""
   ]
  },
  {
   "cell_type": "code",
   "execution_count": 29,
   "id": "69b09200",
   "metadata": {},
   "outputs": [
    {
     "name": "stdout",
     "output_type": "stream",
     "text": [
      "Hello, his name is Jose\n"
     ]
    }
   ],
   "source": [
    "print(\"Hello, his name is {}\".format(name))"
   ]
  },
  {
   "cell_type": "code",
   "execution_count": 30,
   "id": "9ed51e8c",
   "metadata": {},
   "outputs": [
    {
     "name": "stdout",
     "output_type": "stream",
     "text": [
      "Hello, his name is Jose\n"
     ]
    }
   ],
   "source": [
    "print(f\"Hello, his name is {name}\")"
   ]
  },
  {
   "cell_type": "code",
   "execution_count": null,
   "id": "7aca38db",
   "metadata": {},
   "outputs": [],
   "source": []
  }
 ],
 "metadata": {
  "kernelspec": {
   "display_name": "V_Projects",
   "language": "python",
   "name": "v_projects"
  },
  "language_info": {
   "codemirror_mode": {
    "name": "ipython",
    "version": 3
   },
   "file_extension": ".py",
   "mimetype": "text/x-python",
   "name": "python",
   "nbconvert_exporter": "python",
   "pygments_lexer": "ipython3",
   "version": "3.9.5"
  }
 },
 "nbformat": 4,
 "nbformat_minor": 5
}
